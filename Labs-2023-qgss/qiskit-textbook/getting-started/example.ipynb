{
 "cells": [
  {
   "cell_type": "markdown",
   "id": "a2db1293-4443-4838-a7e1-f0d849e53e93",
   "metadata": {},
   "source": [
    "# What Can Qiskit Do\n",
    "\n",
    "## Circuit Library\n",
    "\n",
    "Qiskit includes a comprehensive set of quantum gates and a variety of pre-built circuits so users at all levels can use Qiskit for research and application development.\n"
   ]
  },
  {
   "cell_type": "code",
   "execution_count": null,
   "id": "3ea45396-4860-476a-b41b-631c0da35746",
   "metadata": {},
   "outputs": [],
   "source": [
    "import qiskit\n",
    "\n",
    "# Qiskit quantum circuits libraries\n",
    "quantum_circuit = qiskit.circuit.library.QuantumVolume(5) \n",
    "quantum_circuit.draw()\n"
   ]
  },
  {
   "cell_type": "markdown",
   "id": "d7a229cc-ee1a-4e9b-88ce-e349c7477e5d",
   "metadata": {},
   "source": [
    "## Transpiler\n",
    "\n",
    "The transpiler translates Qiskit code into an optimized circuit using a backend’s native gate set, allowing users to program for any quantum processor or processor architecture with minimal inputs."
   ]
  },
  {
   "cell_type": "code",
   "execution_count": null,
   "id": "103de18b-8885-4680-b13b-b88652d91d3d",
   "metadata": {},
   "outputs": [],
   "source": [
    "# prepare your circuit, transpiling to optimize it to run\n",
    "service = IBMRuntimeService('<API token>')\n",
    "backend = service.get_backend('ibmq_santiago')\n",
    "\n",
    "optimized_circuit = qiskit.transpile(quantum_circuit, backend)\n",
    "optimized_circuit.draw()\n"
   ]
  },
  {
   "cell_type": "markdown",
   "id": "7792b28e-c903-4bd7-b580-59547f0a1015",
   "metadata": {},
   "source": [
    "## Run on real hardware\n",
    "\n",
    "Users can run and schedule jobs on real quantum processors, and employ Qiskit Runtime to orchestrate quantum programs on cloud-based CPUs, QPUs, and GPUs"
   ]
  },
  {
   "cell_type": "code",
   "execution_count": null,
   "id": "c96b9e75-5c3f-45c3-bfa8-848025460621",
   "metadata": {},
   "outputs": [],
   "source": [
    "# run in real hardware\n",
    "job = service.sample(circuits, backend)\n",
    "retrieved_job = backend.job(job.job_id())\n",
    "result = retrieved_job.result()\n"
   ]
  }
 ],
 "metadata": {
  "kernelspec": {
   "display_name": "Python 3 (ipykernel)",
   "language": "python",
   "name": "python3"
  },
  "language_info": {
   "codemirror_mode": {
    "name": "ipython",
    "version": 3
   },
   "file_extension": ".py",
   "mimetype": "text/x-python",
   "name": "python",
   "nbconvert_exporter": "python",
   "pygments_lexer": "ipython3",
   "version": "3.8.11"
  }
 },
 "nbformat": 4,
 "nbformat_minor": 5
}
