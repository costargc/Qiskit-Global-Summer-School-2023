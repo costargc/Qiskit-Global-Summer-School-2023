{
 "cells": [
  {
   "cell_type": "code",
   "execution_count": 1,
   "id": "45ace4ea",
   "metadata": {
    "execution": {
     "iopub.execute_input": "2023-07-11T17:42:27.883628Z",
     "iopub.status.busy": "2023-07-11T17:42:27.881557Z",
     "iopub.status.idle": "2023-07-11T17:42:30.105395Z",
     "shell.execute_reply": "2023-07-11T17:42:30.104208Z"
    }
   },
   "outputs": [
    {
     "name": "stdout",
     "output_type": "stream",
     "text": [
      "DataProcessor(input_key=memory, nodes=[RestlessToCounts(validate=True), Probability(validate=True, outcome=1, alpha_prior=[0.5, 0.5])])\n",
      "Options(meas_level=<MeasLevel.CLASSIFIED: 2>, rep_delay=1e-06, init_qubits=False, memory=True, meas_return=<MeasReturnType.SINGLE: 'single'>, use_measure_esp=False)\n"
     ]
    }
   ],
   "source": [
    "from qiskit_experiments.library import RoughDragCal\n",
    "from qiskit_experiments.calibration_management import (\n",
    "    Calibrations,\n",
    "    FixedFrequencyTransmon,\n",
    ")\n",
    "from qiskit_experiments.data_processing.data_processor import DataProcessor\n",
    "from qiskit.providers.fake_provider import FakePerth\n",
    "\n",
    "# replace this lines with an IBM Quantum backend to run the experiment.\n",
    "backend = FakePerth()\n",
    "cals = Calibrations.from_backend(backend, libraries=[FixedFrequencyTransmon()])\n",
    "\n",
    "# Define the experiment\n",
    "qubit = 2\n",
    "cal_drag = RoughDragCal(qubit, cals, schedule_name='sx', backend=backend)\n",
    "\n",
    "# Enable restless measurements by setting the run options and data processor\n",
    "cal_drag.enable_restless(rep_delay=1e-6)\n",
    "\n",
    "print(cal_drag.analysis.options.data_processor)\n",
    "print(cal_drag.run_options)"
   ]
  },
  {
   "cell_type": "code",
   "execution_count": null,
   "id": "9da41069",
   "metadata": {},
   "outputs": [],
   "source": [
    "drag_data_restless = cal_drag.run()"
   ]
  },
  {
   "cell_type": "code",
   "execution_count": 2,
   "id": "f6f25255",
   "metadata": {
    "execution": {
     "iopub.execute_input": "2023-07-11T17:42:30.111687Z",
     "iopub.status.busy": "2023-07-11T17:42:30.111278Z",
     "iopub.status.idle": "2023-07-11T17:42:30.123973Z",
     "shell.execute_reply": "2023-07-11T17:42:30.122082Z"
    }
   },
   "outputs": [],
   "source": [
    "from qiskit_experiments.data_processing import (\n",
    "    DataProcessor,\n",
    "    Probability,\n",
    ")\n",
    "\n",
    "# define a standard data processor.\n",
    "standard_processor = DataProcessor(\"counts\", [Probability(\"1\")])\n",
    "\n",
    "cal_drag = RoughDragCal(qubit, cals, schedule_name='sx', backend=backend)\n",
    "cal_drag.analysis.set_options(data_processor=standard_processor)\n",
    "\n",
    "# enable restless mode and set override_processor_by_restless to False.\n",
    "cal_drag.enable_restless(rep_delay=1e-6, override_processor_by_restless=False)"
   ]
  },
  {
   "cell_type": "code",
   "execution_count": 3,
   "id": "ae5b14fc",
   "metadata": {
    "execution": {
     "iopub.execute_input": "2023-07-11T17:42:30.131349Z",
     "iopub.status.busy": "2023-07-11T17:42:30.130737Z",
     "iopub.status.idle": "2023-07-11T17:42:31.416967Z",
     "shell.execute_reply": "2023-07-11T17:42:31.415796Z"
    }
   },
   "outputs": [
    {
     "name": "stdout",
     "output_type": "stream",
     "text": [
      "The QPU will spend 1326.1x less time running restless Drag.\n"
     ]
    }
   ],
   "source": [
    "from qiskit import schedule, transpile\n",
    "from qiskit_experiments.framework import BackendData\n",
    "\n",
    "dt = BackendData(backend).dt\n",
    "inst_map = backend.instruction_schedule_map\n",
    "meas_length = inst_map.get(\"measure\", (qubit, )).duration * dt\n",
    "\n",
    "# Compute the average duration of all circuits\n",
    "# Remove measurement instructions\n",
    "circuits = []\n",
    "for qc in cal_drag.circuits():\n",
    "    qc.remove_final_measurements(inplace=True)\n",
    "    circuits.append(qc)\n",
    "\n",
    "# Schedule the circuits to obtain the duration of all the gates\n",
    "executed_circs = transpile(\n",
    "    circuits,\n",
    "    backend,\n",
    "    initial_layout=[qubit],\n",
    "    scheduling_method=\"alap\",\n",
    "    **cal_drag.transpile_options.__dict__,\n",
    ")\n",
    "durations = [c.duration for c in executed_circs]\n",
    "\n",
    "tau = sum(durations) * dt / (len(durations))\n",
    "\n",
    "n_circs = len(cal_drag.circuits())\n",
    "# can be obtained from backend.default_rep_delay on a backend from qiskit-ibm-provider\n",
    "\n",
    "delay_s = 0.0025\n",
    "delay_r = 1e-6  # restless delay\n",
    "reset = 4e-6  # Estimated reset duration\n",
    "speed_up = (meas_length + reset + delay_s + tau) / (meas_length + delay_r + tau)\n",
    "print(f\"The QPU will spend {speed_up:.1f}x less time running restless Drag.\")"
   ]
  }
 ],
 "metadata": {
  "kernelspec": {
   "display_name": "Python 3 (ipykernel)",
   "language": "python",
   "name": "python3"
  },
  "language_info": {
   "codemirror_mode": {
    "name": "ipython",
    "version": 3
   },
   "file_extension": ".py",
   "mimetype": "text/x-python",
   "name": "python",
   "nbconvert_exporter": "python",
   "pygments_lexer": "ipython3",
   "version": "3.10.8"
  }
 },
 "nbformat": 4,
 "nbformat_minor": 5
}