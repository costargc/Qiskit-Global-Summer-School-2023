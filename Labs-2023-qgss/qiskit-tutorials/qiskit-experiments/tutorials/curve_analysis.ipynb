{
 "cells": [
  {
   "cell_type": "code",
   "execution_count": null,
   "id": "06ef2e12",
   "metadata": {},
   "outputs": [],
   "source": [
    "\"experiment\"\n",
    "    - circuits[0] (x=x1_A, \"series_A\")\n",
    "    - circuits[1] (x=x1_B, \"series_B\")\n",
    "    - circuits[2] (x=x2_A, \"series_A\")\n",
    "    - circuits[3] (x=x2_B, \"series_B\")\n",
    "    - circuits[4] (x=x3_A, \"series_A\")\n",
    "    - circuits[5] (x=x3_B, \"series_B\")\n",
    "    - ...\n",
    "\n",
    "\"experiment data\"\n",
    "    - data[0] (y1_A, \"series_A\")\n",
    "    - data[1] (y1_B, \"series_B\")\n",
    "    - data[2] (y2_A, \"series_A\")\n",
    "    - data[3] (y2_B, \"series_B\")\n",
    "    - data[4] (y3_A, \"series_A\")\n",
    "    - data[5] (y3_B, \"series_B\")\n",
    "    - ...\n",
    "\n",
    "\"analysis\"\n",
    "    - \"series_A\": y_A = f_A(x_A; p0, p1, p2)\n",
    "    - \"series_B\": y_B = f_B(x_B; p0, p1, p2)\n",
    "    - fixed parameters {p1: v}"
   ]
  },
  {
   "cell_type": "code",
   "execution_count": null,
   "id": "d706bfe5",
   "metadata": {},
   "outputs": [],
   "source": [
    "import lmfit\n",
    "\n",
    "models = [\n",
    "    lmfit.models.ExpressionModel(\n",
    "        expr=\"amp * exp(-alpha * x) + base\",\n",
    "        name=\"exp_decay\",\n",
    "    )\n",
    "]"
   ]
  },
  {
   "cell_type": "code",
   "execution_count": null,
   "id": "fe00ddbb",
   "metadata": {},
   "outputs": [],
   "source": [
    "import lmfit\n",
    "import numpy as np\n",
    "\n",
    "def exp_decay(x, amp, alpha, base):\n",
    "    return amp * np.exp(-alpha * x) + base\n",
    "\n",
    "models = [lmfit.Model(func=exp_decay)]"
   ]
  },
  {
   "cell_type": "code",
   "execution_count": null,
   "id": "089e32c3",
   "metadata": {},
   "outputs": [],
   "source": [
    "import lmfit\n",
    "\n",
    "models = [\n",
    "    lmfit.models.ExpressionModel(\n",
    "        expr=\"amp * exp(-alpha1 * x) + base\",\n",
    "        name=\"my_experiment1\",\n",
    "    ),\n",
    "    lmfit.models.ExpressionModel(\n",
    "        expr=\"amp * exp(-alpha2 * x) + base\",\n",
    "        name=\"my_experiment2\",\n",
    "    ),\n",
    "]"
   ]
  },
  {
   "cell_type": "code",
   "execution_count": null,
   "id": "dee90b41",
   "metadata": {},
   "outputs": [],
   "source": [
    "data_subfit_map = {\n",
    "    \"my_experiment1\": {\"tag\": 1},\n",
    "    \"my_experiment2\": {\"tag\": 2},\n",
    "}"
   ]
  },
  {
   "cell_type": "code",
   "execution_count": null,
   "id": "b0a4d02c",
   "metadata": {},
   "outputs": [],
   "source": [
    "import lmfit\n",
    "\n",
    "models = [\n",
    "    lmfit.models.ExpressionModel(\n",
    "        expr=\"amp * cos(2 * pi * freq * x + phi) + base\",\n",
    "        name=\"my_experiment1\",\n",
    "    ),\n",
    "    lmfit.models.ExpressionModel(\n",
    "        expr=\"amp * sin(2 * pi * freq * x + phi) + base\",\n",
    "        name=\"my_experiment2\",\n",
    "    ),\n",
    "]"
   ]
  },
  {
   "cell_type": "code",
   "execution_count": null,
   "id": "0e814db2",
   "metadata": {},
   "outputs": [],
   "source": [
    "class AnalysisA(CurveAnalysis):\n",
    "\n",
    "    def __init__(self):\n",
    "        super().__init__(\n",
    "            models=[\n",
    "                lmfit.models.ExpressionModel(\n",
    "                    expr=\"amp * exp(-alpha * x) + base\", name=\"my_model\"\n",
    "                )\n",
    "            ]\n",
    "        )\n",
    "\n",
    "class AnalysisB(AnalysisA):\n",
    "\n",
    "    @classmethod\n",
    "    def _default_options(cls) -> Options:\n",
    "        options = super()._default_options()\n",
    "        options.fixed_parameters = {\"amp\": 3.0}\n",
    "\n",
    "        return options"
   ]
  },
  {
   "cell_type": "code",
   "execution_count": null,
   "id": "2de45b04",
   "metadata": {},
   "outputs": [],
   "source": [
    "class AnalysisB(CurveAnalysis):\n",
    "\n",
    "    super().__init__(\n",
    "        models=[\n",
    "            lmfit.models.ExpressionModel(\n",
    "                expr=\"3.0 * exp(-alpha * x) + base\", name=\"my_model\"\n",
    "            )\n",
    "        ]\n",
    "    )"
   ]
  },
  {
   "cell_type": "code",
   "execution_count": null,
   "id": "8a810ba1",
   "metadata": {},
   "outputs": [],
   "source": [
    "def _generate_fit_guesses(self, user_opt, curve_data):\n",
    "\n",
    "    opt1 = user_opt.copy()\n",
    "    opt1.p0.set_if_empty(p1=3)\n",
    "    opt1.bounds = set_if_empty(p1=(0, 10))\n",
    "    opt1.add_extra_options(method=\"lm\")\n",
    "\n",
    "    opt2 = user_opt.copy()\n",
    "    opt2.p0.set_if_empty(p1=4)\n",
    "\n",
    "    return [opt1, opt2]"
   ]
  },
  {
   "cell_type": "code",
   "execution_count": null,
   "id": "56b43906",
   "metadata": {},
   "outputs": [],
   "source": [
    "from qiskit_experiments.curve_analysis import ParameterRepr\n",
    "\n",
    "def _default_options(cls) -> Options:\n",
    "    options = super()._default_options()\n",
    "    options.result_parameters = [ParameterRepr(\"p0\", \"amp\", \"Hz\")]\n",
    "\n",
    "    return options"
   ]
  },
  {
   "cell_type": "code",
   "execution_count": null,
   "id": "76da6e83",
   "metadata": {},
   "outputs": [],
   "source": [
    "from qiskit_experiments.framework import AnalysisResultData\n",
    "\n",
    "def _create_analysis_results(self, fit_data, quality, **metadata):\n",
    "\n",
    "    outcomes = super()._create_analysis_results(fit_data, **metadata)\n",
    "\n",
    "    p0 = fit_data.ufloat_params[\"p0\"]\n",
    "    p1 = fit_data.ufloat_params[\"p1\"]\n",
    "\n",
    "    extra_entry = AnalysisResultData(\n",
    "        name=\"p01\",\n",
    "        value=p0 * p1,\n",
    "        quality=quality,\n",
    "        extra=metadata,\n",
    "    )\n",
    "    outcomes.append(extra_entry)\n",
    "\n",
    "    return outcomes"
   ]
  }
 ],
 "metadata": {
  "kernelspec": {
   "display_name": "Python 3 (ipykernel)",
   "language": "python",
   "name": "python3"
  },
  "language_info": {
   "codemirror_mode": {
    "name": "ipython",
    "version": 3
   },
   "file_extension": ".py",
   "mimetype": "text/x-python",
   "name": "python",
   "nbconvert_exporter": "python",
   "pygments_lexer": "ipython3",
   "version": "3.10.8"
  }
 },
 "nbformat": 4,
 "nbformat_minor": 5
}