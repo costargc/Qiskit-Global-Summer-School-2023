{
 "cells": [
  {
   "cell_type": "markdown",
   "id": "92133504",
   "metadata": {},
   "source": [
    "# Dynamic circuits basics with OpenQASM 3"
   ]
  },
  {
   "attachments": {},
   "cell_type": "markdown",
   "id": "b48e55f7",
   "metadata": {},
   "source": [
    "## Introduction to OpenQASM 3\n",
    "\n",
    "[OpenQASM 3](https://openqasm.com/intro.html) is an imperative programming language designed for near-term quantum computing algorithms and applications. Quantum programs are described using the measurement-based quantum circuit model, with support for classical feed-forward flow control based on measurement outcomes.\n",
    "\n",
    "In other words, it is an assembly language to represent quantum instructions. A file  with the `.qasm` extension can be written as a source string to run programs.\n",
    "\n",
    "An OpenQASM 3 file consists of a header and the needed code.\n",
    "\n",
    "```\n",
    "OPENQASM 3.0;\n",
    "\n",
    "// Some code\n",
    "```"
   ]
  },
  {
   "cell_type": "markdown",
   "id": "108ca28a",
   "metadata": {},
   "source": [
    "## Know before you begin"
   ]
  },
  {
   "cell_type": "markdown",
   "id": "0b49ebe6",
   "metadata": {},
   "source": [
    "Add imports and load backend information that will be used in this section:"
   ]
  },
  {
   "cell_type": "code",
   "execution_count": 1,
   "id": "e838cd71",
   "metadata": {},
   "outputs": [],
   "source": [
    "# Do the necessary imports\n",
    "from qiskit_ibm_provider import IBMProvider\n",
    "from qiskit.tools.monitor import job_monitor\n",
    "from qiskit.visualization import plot_histogram\n",
    "\n",
    "# Ignoring warnings\n",
    "import sys\n",
    "import warnings\n",
    "\n",
    "if not sys.warnoptions:\n",
    "    warnings.simplefilter(\"ignore\")"
   ]
  },
  {
   "cell_type": "code",
   "execution_count": 2,
   "id": "785da5fa",
   "metadata": {},
   "outputs": [],
   "source": [
    "# Note: This can be any hub/group/project (instance) that has access to the required device and Qiskit Runtime.\n",
    "hub = \"<hub>\"\n",
    "group = \"<group>\"\n",
    "project = \"<project>\"\n",
    "backend_name = \"<your backend>\"\n",
    "hgp = f\"{hub}/{group}/{project}\""
   ]
  },
  {
   "cell_type": "code",
   "execution_count": 3,
   "id": "6c8278b4",
   "metadata": {},
   "outputs": [],
   "source": [
    "# load provider and backend\n",
    "provider = IBMProvider()\n",
    "backend = provider.get_backend(backend_name, instance=hgp)\n",
    "print(f\"Using backend {backend.name}\")"
   ]
  },
  {
   "cell_type": "code",
   "execution_count": 4,
   "id": "fcfcc723",
   "metadata": {},
   "outputs": [],
   "source": [
    "# helper function to submit our program string to the backend's qasm3-runner runtime program\n",
    "def run_qasm3_program(program_str, runtime_backend=backend):\n",
    "    shots = 1000\n",
    "    job = backend.run(program_str, shots=shots, dynamic=True)\n",
    "    print(f\"Runtime job id: {job.job_id()}\")\n",
    "    job_monitor(job)\n",
    "    return job"
   ]
  },
  {
   "attachments": {},
   "cell_type": "markdown",
   "id": "1b26690b",
   "metadata": {},
   "source": [
    "We can dump circuits from Qiskit to OpenQASM 3. The exporter has several configuration settings; however, the ones below are typically valid for IBM Quantum backends.\n",
    "\n",
    "When debugging your program, it is very useful to be able to dump a circuit to a QASM source string."
   ]
  },
  {
   "cell_type": "code",
   "execution_count": 5,
   "id": "5334dbec",
   "metadata": {},
   "outputs": [
    {
     "data": {
      "image/png": "[encoded data removed]",
      "text/plain": [
       "<Figure size 674.219x284.278 with 1 Axes>"
      ]
     },
     "execution_count": 5,
     "metadata": {},
     "output_type": "execute_result"
    }
   ],
   "source": [
    "from qiskit import qasm3, QuantumCircuit, transpile\n",
    "\n",
    "# Creating a bell circuit\n",
    "qc_bell = QuantumCircuit(2, 2)\n",
    "qc_bell.h(0)\n",
    "qc_bell.cx(0, 1)\n",
    "qc_bell.measure(0, 0)\n",
    "qc_bell.measure(0, 1)\n",
    "\n",
    "qc_bell = transpile(qc_bell, backend)\n",
    "qc_bell.draw(output=\"mpl\", idle_wires=False)"
   ]
  },
  {
   "cell_type": "code",
   "execution_count": 6,
   "id": "74e1444b",
   "metadata": {},
   "outputs": [
    {
     "name": "stdout",
     "output_type": "stream",
     "text": [
      "OPENQASM 3;\n",
      "bit[2] c;\n",
      "rz(1.5707963267949) $0;\n",
      "sx $0;\n",
      "rz(1.5707963267949) $0;\n",
      "cx $0, $1;\n",
      "c[0] = measure $0;\n",
      "c[1] = measure $0;\n",
      "\n"
     ]
    }
   ],
   "source": [
    "exporter = qasm3.Exporter(\n",
    "    includes=[], disable_constants=True, basis_gates=backend.configuration().basis_gates\n",
    ")\n",
    "\n",
    "print(qasm3_bell := exporter.dumps(qc_bell))"
   ]
  },
  {
   "cell_type": "code",
   "execution_count": 7,
   "id": "cbd11624",
   "metadata": {},
   "outputs": [
    {
     "name": "stdout",
     "output_type": "stream",
     "text": [
      "Runtime job id: cgdmipni6ptf3jkqdei0\n",
      "Job Status: job has successfully run\n"
     ]
    }
   ],
   "source": [
    "qasm3_bell_job = run_qasm3_program(qasm3_bell)"
   ]
  },
  {
   "cell_type": "code",
   "execution_count": 8,
   "id": "e19d6053",
   "metadata": {},
   "outputs": [
    {
     "name": "stdout",
     "output_type": "stream",
     "text": [
      "Preparation results: {'0': 505, '1': 5, '10': 9, '11': 481}\n"
     ]
    }
   ],
   "source": [
    "qasm3_bell_result = qasm3_bell_job.result()\n",
    "print(f\"Preparation results: {qasm3_bell_result.get_counts(0)}\")"
   ]
  },
  {
   "cell_type": "markdown",
   "id": "00c94ab1",
   "metadata": {},
   "source": [
    "QASM 3 programs may be submitted as strings to the backend using Qiskit Runtime's ``qasm3-runner`` program."
   ]
  },
  {
   "cell_type": "code",
   "execution_count": 9,
   "id": "b20173af",
   "metadata": {},
   "outputs": [],
   "source": [
    "my_first_qasm3_program = \"\"\"\n",
    "OPENQASM 3.0;\n",
    "\n",
    "qubit $0;\n",
    "bit a0;\n",
    "\n",
    "x $0;\n",
    "a0 = measure $0;\n",
    "\n",
    "\"\"\""
   ]
  },
  {
   "cell_type": "code",
   "execution_count": 10,
   "id": "d475c8ce",
   "metadata": {},
   "outputs": [
    {
     "name": "stdout",
     "output_type": "stream",
     "text": [
      "Runtime job id: cgdmisbsvrampimkbaa0\n",
      "Job Status: job has successfully run\n"
     ]
    }
   ],
   "source": [
    "job = run_qasm3_program(my_first_qasm3_program)"
   ]
  },
  {
   "cell_type": "code",
   "execution_count": 11,
   "id": "4b3aa491",
   "metadata": {},
   "outputs": [
    {
     "name": "stdout",
     "output_type": "stream",
     "text": [
      "Preparation results: {'0': 62, '1': 938}\n"
     ]
    }
   ],
   "source": [
    "result = job.result()\n",
    "print(f\"Preparation results: {result.get_counts(0)}\")"
   ]
  },
  {
   "attachments": {},
   "cell_type": "markdown",
   "id": "90f3fc18",
   "metadata": {},
   "source": [
    "## OpenQASM 3 in-depth\n",
    "\n",
    "Let's understand the language statements supported by OpenQASM 3 and execute them on the hardware if supported. To see what features of OpenQASM 3 are currently supported in hardware, please see the [feature support table](../../../manage/systems/dynamic-circuits/feature-table)."
   ]
  },
  {
   "attachments": {},
   "cell_type": "markdown",
   "id": "8ac74bb1",
   "metadata": {},
   "source": [
    "### Variables\n",
    "\n",
    "Let's learn more about the variable support in OpenQASM 3. Variables are used to assign values within a program. Variables representing any classical type can be initialized on declaration.\n",
    "\n",
    "To declare a qubit:\n",
    "\n",
    "```\n",
    "qubit $0;\n",
    "qubit $1;\n",
    "```\n",
    "\n",
    "Other declaration of classical variables:\n",
    "\n",
    "```\n",
    "int[32] a;\n",
    "bit[3] c = \"001\";\n",
    "bool my_bool = false;\n",
    "```\n",
    "\n",
    "for an integer variable `a`, a register of three bits width `c`, and a Boolean variable `my_bool`."
   ]
  },
  {
   "cell_type": "markdown",
   "id": "7eeb6ba5",
   "metadata": {},
   "source": [
    "### Control flow\n",
    "\n",
    "OpenQASM 3 also supports looping and branching.\n",
    "\n",
    "#### If-else statements\n",
    "\n",
    "The statement `if (bool) <true-body>` branches the program if the Boolean evaluates to true, and may optionally be followed by `else <false-body>`. Both `true-body` and `false-body` can be a single statement terminated by a semicolon, or a program block of several statements `{ stmt1; stmt2; }`.\n",
    "\n",
    "```\n",
    "bool target = false;\n",
    "qubit $0;\n",
    "h $0;\n",
    "bit output = measure $0;\n",
    "\n",
    "// example of branching\n",
    "if (target == output) {\n",
    "   // do something\n",
    "} else {\n",
    "   // do something else\n",
    "}\n",
    "```"
   ]
  },
  {
   "cell_type": "code",
   "execution_count": 12,
   "id": "437b9f02",
   "metadata": {},
   "outputs": [],
   "source": [
    "if_example = \"\"\"\n",
    "OPENQASM 3.0;\n",
    "\n",
    "bit target = 1;\n",
    "qubit $0;\n",
    "x $0;\n",
    "bit check = measure $0;\n",
    "if (check) {\n",
    "   x $0;\n",
    "}\n",
    "\n",
    "bit[1] result;\n",
    "result[0] = measure $0;\n",
    "\n",
    "\"\"\""
   ]
  },
  {
   "cell_type": "code",
   "execution_count": 13,
   "id": "4ef58667",
   "metadata": {},
   "outputs": [
    {
     "name": "stdout",
     "output_type": "stream",
     "text": [
      "Runtime job id: cgdmivsrrreur8q1ct70\n",
      "Job Status: job has successfully run\n",
      "Measurement results: {'0': 18, '10': 917, '100': 6, '110': 59}\n"
     ]
    }
   ],
   "source": [
    "job = run_qasm3_program(if_example)\n",
    "counts = job.result().get_counts()\n",
    "print(f\"Measurement results: {counts}\")"
   ]
  },
  {
   "cell_type": "markdown",
   "id": "0071e936",
   "metadata": {},
   "source": [
    "#### For loops\n",
    "\n",
    "The statement `for <type> <name> in <values> <body>` loops over the items in values, assigning each value to the variable name in subsequent iterations of the loop `body.values`.\n",
    "\n",
    "The value can be a range expression in square brackets of the form `[start : (step :)? stop]`. Note that the range is inclusive, so `stop` is the last value iterated over.\n",
    "\n",
    "```\n",
    "int a = 1;\n",
    "\n",
    "// here step=1\n",
    "for i in [0 : 4] {\n",
    "   a = i;\n",
    "}\n",
    "\n",
    "// here step=2\n",
    "for i in [0 : 2 : 4] {\n",
    "   a = i\n",
    "}\n",
    "```"
   ]
  },
  {
   "cell_type": "code",
   "execution_count": 14,
   "id": "044e07f1",
   "metadata": {},
   "outputs": [],
   "source": [
    "for_loop = \"\"\"\n",
    "OPENQASM 3.0;\n",
    "\n",
    "qubit $0;\n",
    "for i in [0 : 4] {\n",
    "   U(1.57079632679, 0.0, 3.14159265359) $0;\n",
    "}\n",
    "\n",
    "bit[1] result;\n",
    "result[0] = measure $0;\n",
    "\n",
    "\"\"\"\n",
    "\n",
    "# U(1.57079632679, 0.0, 3.14159265359) applies a Hadamard gate"
   ]
  },
  {
   "cell_type": "code",
   "execution_count": 15,
   "id": "a50411c7",
   "metadata": {},
   "outputs": [
    {
     "name": "stdout",
     "output_type": "stream",
     "text": [
      "Runtime job id: cgdmj3jsvrampimkbkkg\n",
      "Job Status: job has successfully run\n",
      "Measurement results: {'0': 505, '1': 495}\n"
     ]
    }
   ],
   "source": [
    "job = run_qasm3_program(for_loop)\n",
    "counts = job.result().get_counts()\n",
    "print(f\"Measurement results: {counts}\")"
   ]
  },
  {
   "cell_type": "markdown",
   "id": "f523fdfb",
   "metadata": {},
   "source": [
    "### Classical compute"
   ]
  },
  {
   "cell_type": "markdown",
   "id": "d681c482",
   "metadata": {},
   "source": [
    "OpenQASM 3 supports classical computation on individual bits. These bits may be assigned by the program, or as a result of qubit measurement.\n",
    "\n",
    "Individual bits are declared with the `bit` keyword, or registers of multiple bits may be declared using `bit[size]` where `size` indicates the number of bits in the register. For example,\n",
    "\n",
    "```\n",
    "bit a;\n",
    "bit b;\n",
    "bit c;\n",
    "```\n",
    "\n",
    "declares three individual bits with variable names `a`, `b`, and `c`, while\n",
    "\n",
    "```\n",
    "bit[3] result;\n",
    "```\n",
    "\n",
    "declares a three-bit register with the name `result;`."
   ]
  },
  {
   "attachments": {},
   "cell_type": "markdown",
   "id": "e8c51b04",
   "metadata": {},
   "source": [
    "Bits and bit registers may be assigned by the program\n",
    "```\n",
    "bit a = 0;\n",
    "a = 1;\n",
    "\n",
    "bit[3] result = \"101\";\n",
    "result = \"010\";\n",
    "```\n",
    "\n",
    "or they may store individual qubit measurement results."
   ]
  },
  {
   "cell_type": "code",
   "execution_count": 16,
   "id": "90a56c31",
   "metadata": {},
   "outputs": [],
   "source": [
    "measure_register_bits = \"\"\"\\\n",
    "OPENQASM 3.0;\n",
    "qubit $0;\n",
    "qubit $1;\n",
    "qubit $2;\n",
    "bit a;\n",
    "a = measure $0;\n",
    "\n",
    "bit[3] result;\n",
    "result[0] = measure $0;\n",
    "result[1] = measure $1;\n",
    "result[2] = measure $2;\n",
    "\"\"\""
   ]
  },
  {
   "cell_type": "code",
   "execution_count": 17,
   "id": "22ba93d0",
   "metadata": {},
   "outputs": [
    {
     "name": "stdout",
     "output_type": "stream",
     "text": [
      "Runtime job id: cgdmj74rrreur8q1d7jg\n",
      "Job Status: job has successfully run\n",
      "Measurement results: {'0': 955, '1': 2, '10': 11, '11': 4, '100': 19, '110': 1, '1000': 8}\n"
     ]
    }
   ],
   "source": [
    "job = run_qasm3_program(measure_register_bits)\n",
    "counts = job.result().get_counts()\n",
    "print(f\"Measurement results: {counts}\")"
   ]
  },
  {
   "cell_type": "markdown",
   "id": "fcff8bea",
   "metadata": {},
   "source": [
    "The current dynamic circuits implementation does not support quantum registers; therefore, storing the result of the measurement of a quantum register \n",
    "```\n",
    "qubit[3] qubits;\n",
    "bits[3] result;\n",
    "result = measure qubits;\n",
    "```\n",
    "is not yet supported."
   ]
  },
  {
   "attachments": {},
   "cell_type": "markdown",
   "id": "9eb86acd",
   "metadata": {},
   "source": [
    "Classical computation may be applied to bits and bit registers. The current implementation supports computing bitwise operators applied to bits or bit registers. These include:\n",
    "\n",
    "\n",
    "```\n",
    "bit a;\n",
    "bit b;\n",
    "bit c;\n",
    "```\n",
    "\n",
    "Or:\n",
    "```\n",
    "c = a | b;\n",
    "```\n",
    "And:\n",
    "```\n",
    "c = a & b;\n",
    "```\n",
    "Xor:\n",
    "```\n",
    "c = a ^ b;\n",
    "```"
   ]
  },
  {
   "cell_type": "markdown",
   "id": "0671f7a9",
   "metadata": {},
   "source": [
    "These may be included as part of ``if`` statements, and grouped using parentheses:"
   ]
  },
  {
   "cell_type": "code",
   "execution_count": 18,
   "id": "aff99d8b",
   "metadata": {},
   "outputs": [],
   "source": [
    "grouped_bitwise = \"\"\"\\\n",
    "OPENQASM 3.0;\n",
    "\n",
    "qubit $0;\n",
    "\n",
    "bit a = 0;\n",
    "bit b = 1;\n",
    "bit c;\n",
    "\n",
    "if ((a | b)) {\n",
    "   c = 0;\n",
    "}\n",
    "\n",
    "if ((a | b) ^ c) {\n",
    "   c = 1;\n",
    "}\n",
    "\n",
    "bit d;\n",
    "x $0;\n",
    "d = measure $0;\n",
    "\n",
    "\"\"\""
   ]
  },
  {
   "cell_type": "code",
   "execution_count": 19,
   "id": "aad90bee",
   "metadata": {},
   "outputs": [
    {
     "name": "stdout",
     "output_type": "stream",
     "text": [
      "Runtime job id: cgdmjbfi6ptf3jkqe5rg\n",
      "Job Status: job has successfully run\n",
      "Measurement results: {'0': 51, '1000': 949}\n"
     ]
    }
   ],
   "source": [
    "job = run_qasm3_program(grouped_bitwise)\n",
    "counts = job.result().get_counts()\n",
    "print(f\"Measurement results: {counts}\")"
   ]
  },
  {
   "attachments": {},
   "cell_type": "markdown",
   "id": "19402871",
   "metadata": {},
   "source": [
    "Taking the logical ``not`` of a bit is currently supported with the form:"
   ]
  },
  {
   "cell_type": "code",
   "execution_count": 20,
   "id": "455a6c59",
   "metadata": {},
   "outputs": [],
   "source": [
    "logical_not = \"\"\"\\\n",
    "OPENQASM 3.0;\n",
    "\n",
    "qubit $0;\n",
    "\n",
    "bit a;\n",
    "bit b;\n",
    "bit c;\n",
    "\n",
    "a = !a;\n",
    "\n",
    "if (a | b) {\n",
    "  c = 1;\n",
    "}\n",
    "\n",
    "bit d;\n",
    "x $0;\n",
    "d = measure $0;\n",
    "\n",
    "\"\"\""
   ]
  },
  {
   "cell_type": "code",
   "execution_count": 21,
   "id": "d52f112d",
   "metadata": {},
   "outputs": [
    {
     "name": "stdout",
     "output_type": "stream",
     "text": [
      "Runtime job id: cgdmjeuv33msamgm921g\n",
      "Job Status: job has successfully run\n",
      "Measurement results: {'0': 126, '1000': 874}\n"
     ]
    }
   ],
   "source": [
    "job = run_qasm3_program(logical_not)\n",
    "counts = job.result().get_counts()\n",
    "print(f\"Measurement results: {counts}\")"
   ]
  },
  {
   "cell_type": "markdown",
   "id": "28ed561a",
   "metadata": {},
   "source": [
    "At present time, taking the bit negation `~` is not supported."
   ]
  },
  {
   "attachments": {},
   "cell_type": "markdown",
   "id": "e74ab9fc",
   "metadata": {},
   "source": [
    "Bit registers support conditions on individual bits:"
   ]
  },
  {
   "cell_type": "code",
   "execution_count": 22,
   "id": "9444947c",
   "metadata": {},
   "outputs": [],
   "source": [
    "bit_comparison = \"\"\"\\\n",
    "OPENQASM 3.0;\n",
    "\n",
    "qubit $0;\n",
    "\n",
    "bit[3] result;\n",
    "bit c;\n",
    "\n",
    "if (result[0]) {\n",
    "   c = 0;\n",
    "}\n",
    "\n",
    "bit d;\n",
    "x $0;\n",
    "d = measure $0;\n",
    "\"\"\""
   ]
  },
  {
   "cell_type": "code",
   "execution_count": 23,
   "id": "3c09670e",
   "metadata": {},
   "outputs": [
    {
     "name": "stdout",
     "output_type": "stream",
     "text": [
      "Runtime job id: cgdmjieeecr1glgsqnj0\n",
      "Job Status: job has successfully run\n",
      "Measurement results: {'0': 185, '10000': 815}\n"
     ]
    }
   ],
   "source": [
    "job = run_qasm3_program(bit_comparison)\n",
    "counts = job.result().get_counts()\n",
    "print(f\"Measurement results: {counts}\")"
   ]
  },
  {
   "attachments": {},
   "cell_type": "markdown",
   "id": "cead25f4",
   "metadata": {},
   "source": [
    "bitwise Boolean expressions:"
   ]
  },
  {
   "cell_type": "code",
   "execution_count": 24,
   "id": "19593d6a",
   "metadata": {},
   "outputs": [],
   "source": [
    "bitwise_boolean = \"\"\"\\\n",
    "OPENQASM 3.0;\n",
    "\n",
    "qubit $0;\n",
    "\n",
    "bit[3] result1;\n",
    "bit[3] result2;\n",
    "bit c;\n",
    "\n",
    "if ((result1 | result2)) {\n",
    "   c = 0;\n",
    "}\n",
    "\n",
    "if ((result1 & result2)) {\n",
    "   c = 1;\n",
    "}\n",
    "\n",
    "bit d;\n",
    "x $0;\n",
    "d = measure $0;\n",
    "\"\"\""
   ]
  },
  {
   "cell_type": "code",
   "execution_count": 25,
   "id": "1653bb20",
   "metadata": {},
   "outputs": [
    {
     "name": "stdout",
     "output_type": "stream",
     "text": [
      "Runtime job id: cgdmjmkrrreur8q1dt0g\n",
      "Job Status: job has successfully run\n",
      "Measurement results: {'0': 65, '10000000': 935}\n"
     ]
    }
   ],
   "source": [
    "job = run_qasm3_program(bitwise_boolean)\n",
    "counts = job.result().get_counts()\n",
    "print(f\"Measurement results: {counts}\")"
   ]
  },
  {
   "cell_type": "markdown",
   "id": "4c89295e",
   "metadata": {},
   "source": [
    "and comparison:"
   ]
  },
  {
   "cell_type": "code",
   "execution_count": 26,
   "id": "d87cf7ff",
   "metadata": {},
   "outputs": [],
   "source": [
    "bitwise_comparison = \"\"\"\\\n",
    "OPENQASM 3.0;\n",
    "\n",
    "qubit $0;\n",
    "\n",
    "bit[3] result1 = \"010\";\n",
    "bit[3] result2 = \"101\";\n",
    "bit c;\n",
    "\n",
    "if (result1 == result2)  {\n",
    "   c = 1;\n",
    "}\n",
    "\n",
    "if (result1 > result2) {\n",
    "   c = 1;\n",
    "}\n",
    "\n",
    "bit d;\n",
    "x $0;\n",
    "d = measure $0;\n",
    "\"\"\""
   ]
  },
  {
   "cell_type": "code",
   "execution_count": 27,
   "id": "421d5fdb",
   "metadata": {},
   "outputs": [
    {
     "name": "stdout",
     "output_type": "stream",
     "text": [
      "Runtime job id: cgdmjq6v33msamgm9i7g\n",
      "Job Status: job has successfully run\n",
      "Measurement results: {'0': 143, '10000000': 857}\n"
     ]
    }
   ],
   "source": [
    "job = run_qasm3_program(bitwise_comparison)\n",
    "counts = job.result().get_counts()\n",
    "print(f\"Measurement results: {counts}\")"
   ]
  },
  {
   "cell_type": "markdown",
   "id": "94406e4b",
   "metadata": {},
   "source": [
    "The usage of bit-string literals is currently only supported when initializing bit registers. Therefore, expressions such as\n",
    "\n",
    "```\n",
    "if ((result1 | result2) == \"000\") {\n",
    "   c = 0;\n",
    "}\n",
    "\n",
    "```\n",
    "are not yet supported."
   ]
  },
  {
   "cell_type": "markdown",
   "id": "9455e53c",
   "metadata": {},
   "source": [
    "### Conditional measurement"
   ]
  },
  {
   "cell_type": "markdown",
   "id": "cd42fbd7",
   "metadata": {},
   "source": [
    "Classical computation, Boolean expressions, and conditionals may be combined with qubit measurement to implement conditional measurement. Here the result of qubit measurements may be used to conditionally select additional qubit measurements. \n",
    "```\n",
    "qubit $0\n",
    "qubit $1\n",
    "bit r1;\n",
    "bit r2;\n",
    "\n",
    "r1 = measure $0;\n",
    "if (r1 == \"1\") {\n",
    "    r2 = measure $1;\n",
    "}\n",
    "```"
   ]
  },
  {
   "cell_type": "markdown",
   "id": "634fe8db",
   "metadata": {},
   "source": [
    "``else`` branches may be used to dynamically select individual qubits at runtime:"
   ]
  },
  {
   "cell_type": "code",
   "execution_count": 28,
   "id": "0e6d640f",
   "metadata": {},
   "outputs": [],
   "source": [
    "conditional_measurement_program = \"\"\"\\\n",
    "OPENQASM 3.0;\n",
    "\n",
    "qubit $0;\n",
    "qubit $1;\n",
    "qubit $2;\n",
    "\n",
    "bit r0;\n",
    "bit r1;\n",
    "bit r2;\n",
    "\n",
    "x $0;\n",
    "\n",
    "r0 = measure $0;\n",
    "if (r0) {\n",
    "    r1 = measure $1;\n",
    "} else {\n",
    "    r2 = measure $2;\n",
    "}\n",
    "\"\"\""
   ]
  },
  {
   "cell_type": "code",
   "execution_count": 29,
   "id": "1ebb1f3d",
   "metadata": {},
   "outputs": [
    {
     "name": "stdout",
     "output_type": "stream",
     "text": [
      "Runtime job id: cgdmjtqi9pt33qiou9j0\n",
      "Job Status: job has successfully run\n",
      "Measurement results: {'0': 146, '1': 854}\n"
     ]
    }
   ],
   "source": [
    "job = run_qasm3_program(conditional_measurement_program)\n",
    "counts = job.result().get_counts()\n",
    "print(f\"Measurement results: {counts}\")"
   ]
  },
  {
   "cell_type": "markdown",
   "id": "925a7711",
   "metadata": {},
   "source": [
    "Current system limitations prevent accurate reporting of the conditional measurement results once the program terminates. The result of the measurement is stored and used during the program; however, the measurement results will not be reported to the user unless there are subsequent measurements. If there are subsequent measurements, then the conditional measurement will always be reported as `0` to the user.  We expect to add support for reporting conditional measurement results in 2023. "
   ]
  },
  {
   "attachments": {},
   "cell_type": "markdown",
   "id": "1a5e2808",
   "metadata": {},
   "source": [
    "---"
   ]
  },
  {
   "cell_type": "code",
   "execution_count": null,
   "id": "1ffada21",
   "metadata": {},
   "outputs": [],
   "source": [
    "import qiskit.tools.jupyter\n",
    "\n",
    "%qiskit_version_table"
   ]
  }
 ],
 "metadata": {
  "kernelspec": {
   "display_name": "qss-compiler",
   "language": "python",
   "name": "python3"
  },
  "language_info": {
   "codemirror_mode": {
    "name": "ipython",
    "version": 3
   },
   "file_extension": ".py",
   "mimetype": "text/x-python",
   "name": "python",
   "nbconvert_exporter": "python",
   "pygments_lexer": "ipython3",
   "version": "3.9.6"
  },
  "vscode": {
   "interpreter": {
    "hash": "86a2ed08605ee75a0ec8503ed2a4583ad82ebc8a8e91cda2d47d6ac6ca361db1"
   }
  }
 },
 "nbformat": 4,
 "nbformat_minor": 5
}
