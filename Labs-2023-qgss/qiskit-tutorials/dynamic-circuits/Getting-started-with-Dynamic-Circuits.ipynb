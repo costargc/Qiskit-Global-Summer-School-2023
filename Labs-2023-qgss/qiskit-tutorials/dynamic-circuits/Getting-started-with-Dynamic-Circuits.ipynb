{
 "cells": [
  {
   "cell_type": "markdown",
   "metadata": {},
   "source": [
    "# Getting started with dynamic circuits\n",
    "\n",
    "We will be using [Qiskit](https://qiskit.org/) throughout the tutorial.\n",
    "This notebook will guide you through getting set up."
   ]
  },
  {
   "cell_type": "markdown",
   "metadata": {},
   "source": [
    "## Usage guide\n",
    "\n",
    "The tutorial notebooks live in [IBM Quantum Lab](https://quantum-computing.ibm.com/lab/files/qiskit-tutorials/dynamic-circuits/). You will need to have an IBM Quantum account to use the Quantum Lab. If you do not already have one, [sign up for an IBM Quantum account](https://quantum-computing.ibm.com/).\n",
    "\n",
    "You can run these tutorials either in the cloud, or download them to run on your local machine."
   ]
  },
  {
   "attachments": {},
   "cell_type": "markdown",
   "metadata": {},
   "source": [
    "### Option 1 - Local Machine\n",
    "\n",
    "Log on to IBM Quantum Lab with your IBM Quantum account credentials.\n",
    "\n",
    "Download the [Dynamic circuits notebooks](https://quantum-computing.ibm.com/lab/files/qiskit-tutorials/dynamic-circuits/), including the ``figs/`` directory.\n",
    "\n",
    "Next, install Qiskit by following these [instructions](https://qiskit.org/documentation/install.html).\n",
    "\n",
    "- Setup a Python virtual environment for the tutorial (good practice but not necessary).\n",
    "- Make sure you have have the latest Qiskit installed. _(`qiskit-terra>=0.22` and `qiskit-ibm-provider>=0.1.0`)_\n",
    "    - `pip install jupyter matplotlib scipy`\n",
    "    - `pip install qiskit --upgrade`\n",
    "    - To update qiskit-terra, run `pip install qiskit-terra -U`\n",
    "    - `pip install qiskit-ibm-provider`\n",
    "- Open up this notebook `\"Getting-started-with-Dynamic-Circuits.ipynb\"`, run to check your installation, and run your first OpenQASM 3 program on hardware."
   ]
  },
  {
   "cell_type": "markdown",
   "metadata": {},
   "source": [
    "### Option 2 - Quantum Lab\n",
    "\n",
    "Open the tutorial in [Quantum Lab](https://quantum-computing.ibm.com/lab/files/qiskit-tutorials/dynamic-circuits/).\n",
    "\n",
    "Please make sure to verify that your `qiskit-terra` version `>=0.22.0` and that you are using the latest `qiskit-ibm-provider` version."
   ]
  },
  {
   "cell_type": "code",
   "execution_count": null,
   "metadata": {},
   "outputs": [],
   "source": [
    "import qiskit.tools.jupyter\n",
    "\n",
    "%qiskit_version_table"
   ]
  },
  {
   "cell_type": "code",
   "execution_count": 2,
   "metadata": {},
   "outputs": [],
   "source": [
    "# Running checks for the correct dependencies\n",
    "import qiskit\n",
    "from packaging import version\n",
    "\n",
    "if not (\n",
    "    version.parse(qiskit.__qiskit_version__[\"qiskit-terra\"]) >= version.parse(\"0.22\")\n",
    "):\n",
    "    print(\n",
    "        \"Incorrect dependencies. Found qiskit-terra: \"\n",
    "        + qiskit.__qiskit_version__[\"qiskit-terra\"]\n",
    "        + \"\\nNeed qiskit-terra >= 0.22\"\n",
    "    )\n",
    "\n",
    "try:\n",
    "    import qiskit_ibm_provider\n",
    "except ModuleNotFoundError:\n",
    "    print(\n",
    "        \"You must install the qiskit_ibm_provider with 'pip install qiskit_ibm_provider'\"\n",
    "    )\n",
    "    raise"
   ]
  },
  {
   "cell_type": "code",
   "execution_count": 3,
   "metadata": {},
   "outputs": [],
   "source": [
    "# Ignoring warnings\n",
    "import sys\n",
    "import warnings\n",
    "\n",
    "if not sys.warnoptions:\n",
    "    warnings.simplefilter(\"ignore\")"
   ]
  },
  {
   "cell_type": "markdown",
   "metadata": {},
   "source": [
    "The notebook is ready to run!"
   ]
  },
  {
   "cell_type": "markdown",
   "metadata": {},
   "source": [
    "## Testing OpenQASM 3 support\n",
    "\n",
    "Let's test out our installation by verifying we have access to the code and hardware necessary.\n",
    "\n",
    "First, load our backend.\n",
    "\n",
    "To view the simulators and systems supporting dynamic circuits that you can access, [click here (requires the user to be logged in to IBM Quantum)](https://quantum-computing.ibm.com/services/resources?tab=yours&openqasm3=true).\n",
    "\n",
    "**Note**: This can be *any* hub/group/project that has access to the required device and the Qiskit runtime and has OpenQASM 3 support"
   ]
  },
  {
   "cell_type": "code",
   "execution_count": 4,
   "metadata": {},
   "outputs": [],
   "source": [
    "# Note: This can be any hub/group/project that has access to the required device and the Qiskit runtime.\n",
    "hub = \"<hub>\"\n",
    "group = \"<group>\"\n",
    "project = \"<project>\"\n",
    "backend_name = \"<your backend>\"\n",
    "hgp = f\"{hub}/{group}/{project}\""
   ]
  },
  {
   "cell_type": "markdown",
   "metadata": {},
   "source": [
    "Next, we load our IBM Quantum account credentials."
   ]
  },
  {
   "cell_type": "code",
   "execution_count": 5,
   "metadata": {},
   "outputs": [],
   "source": [
    "import qiskit\n",
    "from qiskit_ibm_provider import IBMProvider\n",
    "\n",
    "# Save token if necessary\n",
    "# IBMProvider.save_account(token='MY_API_TOKEN')\n",
    "\n",
    "# Get our backend\n",
    "provider = IBMProvider()\n",
    "backend = provider.get_backend(backend_name, instance=hgp)\n",
    "print(f\"Using backend {backend.name}\")"
   ]
  },
  {
   "cell_type": "markdown",
   "metadata": {},
   "source": [
    "Make sure to use any OpenQASM 3-enabled backend."
   ]
  },
  {
   "cell_type": "code",
   "execution_count": 6,
   "metadata": {},
   "outputs": [],
   "source": [
    "qasm3_backends = set(\n",
    "    backend.name for backend in provider.backends(dynamic_circuits=True)\n",
    ")\n",
    "\n",
    "print(f\"The following backends support dynamic circuits: {qasm3_backends}\")"
   ]
  },
  {
   "cell_type": "markdown",
   "metadata": {},
   "source": [
    "Now we prepare our circuit."
   ]
  },
  {
   "cell_type": "code",
   "execution_count": 7,
   "metadata": {},
   "outputs": [],
   "source": [
    "qubit = 0\n",
    "shots = 1000"
   ]
  },
  {
   "cell_type": "code",
   "execution_count": 8,
   "metadata": {},
   "outputs": [
    {
     "data": {
      "image/png": "[encoded data removed]",
      "text/plain": [
       "<Figure size 269.064x200.667 with 1 Axes>"
      ]
     },
     "execution_count": 8,
     "metadata": {},
     "output_type": "execute_result"
    }
   ],
   "source": [
    "from qiskit import QuantumCircuit\n",
    "\n",
    "h_qc = QuantumCircuit(1, 1, name=\"|+> Prep\")\n",
    "h_qc.h(0)\n",
    "h_qc.measure(0, 0)\n",
    "h_qc.draw(idle_wires=False, output=\"mpl\")"
   ]
  },
  {
   "cell_type": "markdown",
   "metadata": {},
   "source": [
    "Next, transpile our quantum circuit for the hardware basis gates."
   ]
  },
  {
   "cell_type": "code",
   "execution_count": 9,
   "metadata": {},
   "outputs": [
    {
     "data": {
      "image/png": "[encoded data removed]",
      "text/plain": [
       "<Figure size 506.795x200.667 with 1 Axes>"
      ]
     },
     "execution_count": 9,
     "metadata": {},
     "output_type": "execute_result"
    }
   ],
   "source": [
    "from qiskit import transpile\n",
    "\n",
    "h_qc_transpiled = transpile(h_qc, backend, initial_layout=[1])\n",
    "h_qc_transpiled.draw(idle_wires=False, output=\"mpl\")"
   ]
  },
  {
   "cell_type": "markdown",
   "metadata": {},
   "source": [
    "Now we submit our circuit to the backend to verify it is working."
   ]
  },
  {
   "cell_type": "markdown",
   "metadata": {},
   "source": [
    "Note that we have to set `dynamic=True` to communicate to the backend that we want to run a dynamic circuit."
   ]
  },
  {
   "cell_type": "code",
   "execution_count": 10,
   "metadata": {},
   "outputs": [
    {
     "name": "stdout",
     "output_type": "stream",
     "text": [
      "Your job's id: cgdmdsjsvrampimk4bb0\n",
      "|+> preparation results: {'0': 487, '1': 513}\n"
     ]
    }
   ],
   "source": [
    "job = backend.run(h_qc_transpiled, shots=shots, dynamic=True)\n",
    "print(f\"Your job's id: {job.job_id()}\")\n",
    "result = job.result()\n",
    "print(f\"|+> preparation results: {result.get_counts(0)}\")"
   ]
  },
  {
   "cell_type": "code",
   "execution_count": 11,
   "metadata": {},
   "outputs": [],
   "source": [
    "job.error_message()"
   ]
  },
  {
   "cell_type": "code",
   "execution_count": null,
   "metadata": {},
   "outputs": [],
   "source": [
    "import qiskit.tools.jupyter\n",
    "\n",
    "%qiskit_version_table"
   ]
  }
 ],
 "metadata": {
  "kernelspec": {
   "display_name": "Python 3",
   "language": "python",
   "name": "python3"
  },
  "language_info": {
   "codemirror_mode": {
    "name": "ipython",
    "version": 3
   },
   "file_extension": ".py",
   "mimetype": "text/x-python",
   "name": "python",
   "nbconvert_exporter": "python",
   "pygments_lexer": "ipython3",
   "version": "3.9.6"
  }
 },
 "nbformat": 4,
 "nbformat_minor": 4
}
