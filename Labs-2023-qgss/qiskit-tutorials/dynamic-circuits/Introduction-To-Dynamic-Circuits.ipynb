{
 "cells": [
  {
   "attachments": {},
   "cell_type": "markdown",
   "id": "7316a9b4",
   "metadata": {
    "slideshow": {
     "slide_type": "slide"
    }
   },
   "source": [
    "# Introduction to dynamic circuits\n",
    "\n",
    "This tutorial introduces the current dynamic circuit support through Qiskit on IBM Quantum hardware.\n",
    "\n",
    "Dynamic circuits are quantum circuits that contain mid-circuit measurements that affect the control flow of gate execution later in the circuit, otherwise known as feed-forward operations. The canonical and most simple example is conditional reset, where we perform a projective measurement of the qubit, and if the result is a 1, we flip the state using an X-gate from the $|1\\rangle$ to the $|0\\rangle$ state. If the result is a 0 we do nothing, as we are already in $|0\\rangle$.\n",
    "\n",
    "Dynamic circuit support requires significant changes to the hardware and software backends that execute quantum circuits, compared to traditional 'static' circuits. Many of IBM Quantum's hardware backends have been upgraded to support dynamic circuits. To view the simulators and systems supporting dynamic circuits that you can access, [click here (requires the user to be logged in to IBM Quantum)](https://quantum-computing.ibm.com/services/resources?tab=yours&openqasm3=true). Support for dynamic circuits will continue to grow and improve in ease of use and efficiency. We aim to keep the tutorials in this documentation up to date with what IBM's hardware and software backends provide."
   ]
  },
  {
   "cell_type": "code",
   "execution_count": 1,
   "id": "43527eee",
   "metadata": {
    "slideshow": {
     "slide_type": "skip"
    }
   },
   "outputs": [],
   "source": [
    "import warnings\n",
    "\n",
    "warnings.filterwarnings(\"ignore\")"
   ]
  },
  {
   "cell_type": "markdown",
   "id": "ac8f27a2",
   "metadata": {
    "slideshow": {
     "slide_type": "slide"
    }
   },
   "source": [
    "## Run a dynamic circuit"
   ]
  },
  {
   "attachments": {},
   "cell_type": "markdown",
   "id": "1fcacfad",
   "metadata": {
    "slideshow": {
     "slide_type": "-"
    }
   },
   "source": [
    "**Note**: Before running this notebook, make sure to the follow the steps in the [Getting started with dynamic circuits](./Getting-started-with-Dynamic-Circuits) guide, to verify you are set up to run dynamic circuit programs on IBM hardware."
   ]
  },
  {
   "attachments": {},
   "cell_type": "markdown",
   "id": "15ca1184",
   "metadata": {
    "slideshow": {
     "slide_type": "subslide"
    }
   },
   "source": [
    "### Step 1: Load backend\n",
    "\n",
    "Backends provide a handle to the quantum hardware instance. The main approach for running circuits will be to call `backend.run(<your circuit>, dynamic=True)`. Backends are obtained from the ``IBMProvider`` imported from ``qiskit_ibm_provider``, and are specified by a system name along with the ``hub/group/project`` string that gives you access to that system."
   ]
  },
  {
   "cell_type": "code",
   "execution_count": 2,
   "id": "1e7303af",
   "metadata": {
    "slideshow": {
     "slide_type": "-"
    }
   },
   "outputs": [],
   "source": [
    "# Note: This can be any hub/group/project that has access to the required device and Qiskit Runtime.\n",
    "hub = \"<hub>\"\n",
    "group = \"<group>\"\n",
    "project = \"<project>\"\n",
    "backend_name = \"<your backend>\"\n",
    "hgp = f\"{hub}/{group}/{project}\""
   ]
  },
  {
   "cell_type": "code",
   "execution_count": 3,
   "id": "faa8f57a",
   "metadata": {
    "slideshow": {
     "slide_type": "-"
    }
   },
   "outputs": [],
   "source": [
    "from qiskit_ibm_provider import IBMProvider\n",
    "\n",
    "provider = IBMProvider()\n",
    "backend = provider.get_backend(backend_name, instance=hgp)\n",
    "print(f\"Using backend {backend.name}\")"
   ]
  },
  {
   "cell_type": "markdown",
   "id": "f58c1dcc",
   "metadata": {},
   "source": [
    "**Load a simulator backend**\n",
    "\n",
    "We can also use a simulator to simulate the behavior of dynamic circuits. We obtain a simulator backend similarly to a hardware backend."
   ]
  },
  {
   "cell_type": "code",
   "execution_count": 4,
   "id": "3a55da28",
   "metadata": {},
   "outputs": [],
   "source": [
    "from qiskit import Aer\n",
    "\n",
    "backend_sim = Aer.get_backend(\"aer_simulator\")"
   ]
  },
  {
   "cell_type": "markdown",
   "id": "5ee972a2",
   "metadata": {
    "slideshow": {
     "slide_type": "subslide"
    }
   },
   "source": [
    "### Step 2: Write a dynamic circuit with Qiskit\n",
    "\n",
    "We start with a conditional reset circuit on a single qubit. We first try to excite the qubit with an X-gate followed by a  measurement, and another X-gate if the measurement returns a 1.\n",
    "\n",
    "In older versions of Qiskit, limited conditional execution was supported using the `c_if()` construct. This was a function that all gate objects exposed, which allowed gate execution to be conditioned on the value of a classical register. A significant limitation was that only a single gate could be conditioned on the classical register value.\n",
    "\n",
    "In contrast, the new style of classical control flow with the `if_test()` allows significantly more flexibility in the values that can be conditioned on and the sub-circuits that can be defined within the body of the `if_test()`. It also enables ``else`` conditions. More documentation on the `if_test()` is [available here](https://qiskit.org/documentation/stubs/qiskit.circuit.QuantumCircuit.if_test.html)."
   ]
  },
  {
   "cell_type": "code",
   "execution_count": 5,
   "id": "5b7fe8df",
   "metadata": {},
   "outputs": [
    {
     "data": {
      "image/png": "[encoded data removed]",
      "text/plain": [
       "<Figure size 710.991x284.278 with 1 Axes>"
      ]
     },
     "execution_count": 5,
     "metadata": {},
     "output_type": "execute_result"
    }
   ],
   "source": [
    "from qiskit import QuantumCircuit, QuantumRegister, ClassicalRegister\n",
    "from qiskit import transpile\n",
    "\n",
    "qr = QuantumRegister(1)\n",
    "crx = ClassicalRegister(1, name=\"xresult\")\n",
    "crm = ClassicalRegister(1, name=\"measureresult\")\n",
    "qc_reset = QuantumCircuit(qr, crx, crm, name=\"Reset\")\n",
    "qc_reset.x(0)\n",
    "qc_reset.measure(0, crx)\n",
    "# qc_reset.x(0).c_if(crx, 1) # old style conditional gate\n",
    "with qc_reset.if_test((crx, 1)):  # new style conditional block (more flexible)\n",
    "    qc_reset.x(0)\n",
    "qc_reset.measure(0, crm)\n",
    "\n",
    "qc_reset = transpile(qc_reset, backend, initial_layout=[0])\n",
    "qc_reset.draw(output=\"mpl\", idle_wires=False)"
   ]
  },
  {
   "cell_type": "markdown",
   "id": "873a2bae",
   "metadata": {},
   "source": [
    "### Step 3: Run conditional reset in a simulator\n",
    "\n",
    "Running on the simulator is very similar to running on the hardware."
   ]
  },
  {
   "cell_type": "code",
   "execution_count": 6,
   "id": "f9d49535",
   "metadata": {},
   "outputs": [
    {
     "name": "stdout",
     "output_type": "stream",
     "text": [
      "0191006e-ab5e-41bd-bff3-734e3dd5f2d1\n"
     ]
    }
   ],
   "source": [
    "reset_sim_job = backend_sim.run(qc_reset)\n",
    "print(reset_sim_job.job_id())"
   ]
  },
  {
   "cell_type": "code",
   "execution_count": 7,
   "id": "fe1f1d08",
   "metadata": {},
   "outputs": [
    {
     "name": "stdout",
     "output_type": "stream",
     "text": [
      "Full counts including reset: {'0 1': 1024}\n"
     ]
    }
   ],
   "source": [
    "reset_sim_result = reset_sim_job.result()\n",
    "reset_sim_counts = reset_sim_result.get_counts(0)\n",
    "print(f\"Full counts including reset: {reset_sim_counts}\")"
   ]
  },
  {
   "cell_type": "markdown",
   "id": "92c1d49d",
   "metadata": {},
   "source": [
    "### Step 4: Run conditional reset on hardware\n",
    "\n",
    "Now we run our conditional reset program on the backend. We turn off the automatic qubit initialization provided by the backend so that we can examine the results of our reset program directly."
   ]
  },
  {
   "cell_type": "code",
   "execution_count": 8,
   "id": "ef1b0dae",
   "metadata": {},
   "outputs": [
    {
     "name": "stdout",
     "output_type": "stream",
     "text": [
      "cgdmfj3svrampimk6nb0\n"
     ]
    }
   ],
   "source": [
    "reset_job = backend.run(\n",
    "    qc_reset, dynamic=True, init_qubits=False\n",
    ")  # Turn off automatic init\n",
    "print(reset_job.job_id())"
   ]
  },
  {
   "cell_type": "markdown",
   "id": "a94d3b8b",
   "metadata": {},
   "source": [
    "Let's understand the results:"
   ]
  },
  {
   "cell_type": "code",
   "execution_count": 9,
   "id": "3b76118a",
   "metadata": {},
   "outputs": [
    {
     "name": "stdout",
     "output_type": "stream",
     "text": [
      "Full counts including reset: {'0 0': 89, '0 1': 3648, '1 0': 14, '1 1': 249}\n",
      "Results from our reset - |0>s prepared 3737, |1>s prepared 263\n"
     ]
    }
   ],
   "source": [
    "from qiskit.result import marginal_counts\n",
    "\n",
    "reset_result = reset_job.result()\n",
    "reset_counts = reset_result.get_counts(0)\n",
    "mitigated_reset_results = marginal_counts(reset_counts, indices=[1])\n",
    "print(f\"Full counts including reset: {reset_counts}\")\n",
    "print(\n",
    "    f\"Results from our reset - |0>s prepared {mitigated_reset_results.get('0')}, |1>s prepared {mitigated_reset_results['1']}\"\n",
    ")"
   ]
  },
  {
   "cell_type": "markdown",
   "id": "07b7905d",
   "metadata": {},
   "source": [
    "### Step 5: Conditional Reset with OpenQASM 3\n",
    "\n",
    "Another way to write the same circuit above is to use [OpenQASM 3](https://arxiv.org/abs/2104.14722), a quantum assembly language well-suited to describing dynamic circuits. The [live specification](https://openqasm.com/) provides full details. Qiskit provides support to directly convert `QuantumCircuit` objects into OpenQASM 3.0 strings."
   ]
  },
  {
   "cell_type": "code",
   "execution_count": 10,
   "id": "f2f6292b",
   "metadata": {},
   "outputs": [
    {
     "name": "stdout",
     "output_type": "stream",
     "text": [
      "OPENQASM 3;\n",
      "bit[1] xresult;\n",
      "bit[1] measureresult;\n",
      "x $0;\n",
      "xresult[0] = measure $0;\n",
      "if (xresult == 1) {\n",
      "  x $0;\n",
      "}\n",
      "measureresult[0] = measure $0;\n",
      "\n"
     ]
    }
   ],
   "source": [
    "try:\n",
    "    from qiskit import qasm3\n",
    "except ImportError:\n",
    "    print(\n",
    "        \"You likely do not have the latest version of Qiskit installed. Please install it to run this code\"\n",
    "    )\n",
    "    raise\n",
    "\n",
    "\n",
    "def dump_qasm3(circuit, backend=backend):\n",
    "    return qasm3.Exporter(\n",
    "        includes=[],\n",
    "        basis_gates=backend.configuration().basis_gates,\n",
    "        disable_constants=True,\n",
    "    ).dumps(circuit)\n",
    "\n",
    "\n",
    "qc_reset_qasm3 = dump_qasm3(qc_reset)\n",
    "print(qc_reset_qasm3)"
   ]
  },
  {
   "cell_type": "markdown",
   "id": "5031ce90",
   "metadata": {},
   "source": [
    "**Note:** The names of the classical registers (`xresult` and `measureresult`) in the ``qasm3`` string above are the same as those provided when the circuit was first constructed. These make the OpenQASM 3 string much more human-readable."
   ]
  },
  {
   "cell_type": "markdown",
   "id": "00b15159",
   "metadata": {
    "slideshow": {
     "slide_type": "subslide"
    }
   },
   "source": [
    "### Step 6: Submit an OpenQASM 3 string directly\n",
    "\n",
    "It is also possible to submit an OpenQASM 3 string directly instead of a `QuantumCircuit` object.\n",
    "\n",
    "This is useful when the `QuantumCircuit` does not yet support all of the semantics of OpenQASM 3. To see what features of OpenQASM 3 are currently supported in hardware, please see the [feature support table here](https://quantum-computing.ibm.com/services/docs/services/manage/systems/dynamic-circuits/feature-table).\n",
    "\n",
    "See [Dynamic-Circuits-basics-with-OpenQASM3](https://quantum-computing.ibm.com/lab/files/qiskit-tutorials/dynamic-circuits/Dynamic-Circuits-basics-with-OpenQASM3.ipynb) for more information.\n",
    "\n",
    "**Note**: We cannot use circuit merging when OpenQASM 3 source strings are submitted. In this case each OpenQASM 3 source will run individually."
   ]
  },
  {
   "cell_type": "code",
   "execution_count": 11,
   "id": "8c28ef1c",
   "metadata": {},
   "outputs": [
    {
     "name": "stdout",
     "output_type": "stream",
     "text": [
      "cgdmfnni6ptf3jkq98ug\n"
     ]
    }
   ],
   "source": [
    "qasm3_job = backend.run(qc_reset_qasm3, dynamic=True)\n",
    "print(qasm3_job.job_id())"
   ]
  },
  {
   "cell_type": "code",
   "execution_count": 12,
   "id": "9fd62db7",
   "metadata": {},
   "outputs": [
    {
     "name": "stdout",
     "output_type": "stream",
     "text": [
      "{'0': 96, '1': 3662, '10': 9, '11': 233}\n"
     ]
    }
   ],
   "source": [
    "print(qasm3_job.result().get_counts())"
   ]
  },
  {
   "attachments": {},
   "cell_type": "markdown",
   "id": "352a5e49",
   "metadata": {},
   "source": [
    "---"
   ]
  },
  {
   "cell_type": "code",
   "execution_count": null,
   "id": "599bb89f",
   "metadata": {},
   "outputs": [],
   "source": [
    "import qiskit.tools.jupyter\n",
    "\n",
    "%qiskit_version_table"
   ]
  }
 ],
 "metadata": {
  "celltoolbar": "Slideshow",
  "kernelspec": {
   "display_name": "qss-compiler",
   "language": "python",
   "name": "qss-compiler"
  },
  "language_info": {
   "codemirror_mode": {
    "name": "ipython",
    "version": 3
   },
   "file_extension": ".py",
   "mimetype": "text/x-python",
   "name": "python",
   "nbconvert_exporter": "python",
   "pygments_lexer": "ipython3",
   "version": "3.9.6"
  },
  "vscode": {
   "interpreter": {
    "hash": "31f2aee4e71d21fbe5cf8b01ff0e069b9275f58929596ceb00d14d90e3e16cd6"
   }
  }
 },
 "nbformat": 4,
 "nbformat_minor": 5
}
